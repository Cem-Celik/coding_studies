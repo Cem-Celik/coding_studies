{
 "cells": [
  {
   "cell_type": "markdown",
   "metadata": {},
   "source": [
    "**Chi-Square Test**"
   ]
  },
  {
   "cell_type": "markdown",
   "metadata": {},
   "source": [
    "Basit olarak 2 kategori cinsindeki değerin arasındaki ilişki olup olmadığına bakıyoruz.\n",
    "\n",
    "X ve Y iki kategori değeri dersek\n",
    "\n",
    "H0 -> X ve Y arasında bir bağlantı yok. (Bağımsız - Independent)\n",
    "HA -> X ve Y bağımlı. (Dependent)"
   ]
  },
  {
   "cell_type": "code",
   "execution_count": 59,
   "metadata": {},
   "outputs": [],
   "source": [
    "exp_1 = pd.DataFrame(columns = [\" \", \"Heart_Rate_Increased\", \"No_Heart_Rate_Increased\" ,\"Totals\"])"
   ]
  },
  {
   "cell_type": "code",
   "execution_count": 66,
   "metadata": {},
   "outputs": [
    {
     "data": {
      "text/html": [
       "<div>\n",
       "<style scoped>\n",
       "    .dataframe tbody tr th:only-of-type {\n",
       "        vertical-align: middle;\n",
       "    }\n",
       "\n",
       "    .dataframe tbody tr th {\n",
       "        vertical-align: top;\n",
       "    }\n",
       "\n",
       "    .dataframe thead th {\n",
       "        text-align: right;\n",
       "    }\n",
       "</style>\n",
       "<table border=\"1\" class=\"dataframe\">\n",
       "  <thead>\n",
       "    <tr style=\"text-align: right;\">\n",
       "      <th></th>\n",
       "      <th>Heart_Rate_Increased</th>\n",
       "      <th>No_Heart_Rate_Increased</th>\n",
       "      <th>Totals</th>\n",
       "    </tr>\n",
       "    <tr>\n",
       "      <th></th>\n",
       "      <th></th>\n",
       "      <th></th>\n",
       "      <th></th>\n",
       "    </tr>\n",
       "  </thead>\n",
       "  <tbody>\n",
       "    <tr>\n",
       "      <th>Treated</th>\n",
       "      <td>36</td>\n",
       "      <td>14</td>\n",
       "      <td>50</td>\n",
       "    </tr>\n",
       "    <tr>\n",
       "      <th>Not Treated</th>\n",
       "      <td>30</td>\n",
       "      <td>25</td>\n",
       "      <td>55</td>\n",
       "    </tr>\n",
       "    <tr>\n",
       "      <th>Total</th>\n",
       "      <td>66</td>\n",
       "      <td>39</td>\n",
       "      <td>105</td>\n",
       "    </tr>\n",
       "  </tbody>\n",
       "</table>\n",
       "</div>"
      ],
      "text/plain": [
       "             Heart_Rate_Increased  No_Heart_Rate_Increased  Totals\n",
       "                                                                  \n",
       "Treated                        36                       14      50\n",
       "Not Treated                    30                       25      55\n",
       "Total                          66                       39     105"
      ]
     },
     "metadata": {},
     "output_type": "display_data"
    }
   ],
   "source": [
    "exp_1 = pd.DataFrame(columns = [\" \", \"Heart_Rate_Increased\", \"No_Heart_Rate_Increased\" ,\"Totals\"])\n",
    "exp_1[\" \"] = [\"Treated\",\"Not Treated\",\"Total\"]\n",
    "exp_1[\"Heart_Rate_Increased\"] = [36,30,66]\n",
    "exp_1[\"No_Heart_Rate_Increased\"] = [14,25,39]\n",
    "exp_1[\"Totals\"] = [50,55,105]\n",
    "exp_1 = exp_1.set_index(\" \")\n",
    "display(exp_1)"
   ]
  },
  {
   "cell_type": "code",
   "execution_count": 75,
   "metadata": {},
   "outputs": [
    {
     "data": {
      "text/html": [
       "<div>\n",
       "<style scoped>\n",
       "    .dataframe tbody tr th:only-of-type {\n",
       "        vertical-align: middle;\n",
       "    }\n",
       "\n",
       "    .dataframe tbody tr th {\n",
       "        vertical-align: top;\n",
       "    }\n",
       "\n",
       "    .dataframe thead th {\n",
       "        text-align: right;\n",
       "    }\n",
       "</style>\n",
       "<table border=\"1\" class=\"dataframe\">\n",
       "  <thead>\n",
       "    <tr style=\"text-align: right;\">\n",
       "      <th></th>\n",
       "      <th>Heart_Rate_Increased</th>\n",
       "      <th>No_Heart_Rate_Increased</th>\n",
       "      <th>Totals</th>\n",
       "    </tr>\n",
       "    <tr>\n",
       "      <th></th>\n",
       "      <th></th>\n",
       "      <th></th>\n",
       "      <th></th>\n",
       "    </tr>\n",
       "  </thead>\n",
       "  <tbody>\n",
       "    <tr>\n",
       "      <th>Treated</th>\n",
       "      <td>36/50</td>\n",
       "      <td>14/50</td>\n",
       "      <td>50/105</td>\n",
       "    </tr>\n",
       "    <tr>\n",
       "      <th>Not Treated</th>\n",
       "      <td>30/55</td>\n",
       "      <td>25/50</td>\n",
       "      <td>55/105</td>\n",
       "    </tr>\n",
       "    <tr>\n",
       "      <th>Total</th>\n",
       "      <td>66/105</td>\n",
       "      <td>39/105</td>\n",
       "      <td>105</td>\n",
       "    </tr>\n",
       "  </tbody>\n",
       "</table>\n",
       "</div>"
      ],
      "text/plain": [
       "            Heart_Rate_Increased No_Heart_Rate_Increased  Totals\n",
       "                                                                \n",
       "Treated                    36/50                   14/50  50/105\n",
       "Not Treated                30/55                   25/50  55/105\n",
       "Total                     66/105                  39/105     105"
      ]
     },
     "metadata": {},
     "output_type": "display_data"
    }
   ],
   "source": [
    "exp_1[\" \"] = [\"Treated\",\"Not Treated\",\"Total\"]\n",
    "exp_1[\"Heart_Rate_Increased\"] = [\"36/50\",\"30/55\",\"66/105\"]\n",
    "exp_1[\"No_Heart_Rate_Increased\"] = [\"14/50\",\"25/50\",\"39/105\"]\n",
    "exp_1[\"Totals\"] = [\"50/105\",\"55/105\",\"105\"]\n",
    "exp_1 = exp_1.set_index(\" \")\n",
    "display(exp_1)"
   ]
  },
  {
   "cell_type": "code",
   "execution_count": 65,
   "metadata": {},
   "outputs": [
    {
     "data": {
      "text/html": [
       "<div>\n",
       "<style scoped>\n",
       "    .dataframe tbody tr th:only-of-type {\n",
       "        vertical-align: middle;\n",
       "    }\n",
       "\n",
       "    .dataframe tbody tr th {\n",
       "        vertical-align: top;\n",
       "    }\n",
       "\n",
       "    .dataframe thead th {\n",
       "        text-align: right;\n",
       "    }\n",
       "</style>\n",
       "<table border=\"1\" class=\"dataframe\">\n",
       "  <thead>\n",
       "    <tr style=\"text-align: right;\">\n",
       "      <th></th>\n",
       "      <th>Heart_Rate_Increased</th>\n",
       "      <th>No_Heart_Rate_Increased</th>\n",
       "      <th>Totals</th>\n",
       "    </tr>\n",
       "    <tr>\n",
       "      <th></th>\n",
       "      <th></th>\n",
       "      <th></th>\n",
       "      <th></th>\n",
       "    </tr>\n",
       "  </thead>\n",
       "  <tbody>\n",
       "    <tr>\n",
       "      <th>Treated</th>\n",
       "      <td>0.72</td>\n",
       "      <td>0.28</td>\n",
       "      <td>0.48</td>\n",
       "    </tr>\n",
       "    <tr>\n",
       "      <th>Not Treated</th>\n",
       "      <td>0.55</td>\n",
       "      <td>0.50</td>\n",
       "      <td>0.52</td>\n",
       "    </tr>\n",
       "    <tr>\n",
       "      <th>Total</th>\n",
       "      <td>0.63</td>\n",
       "      <td>0.37</td>\n",
       "      <td>105.00</td>\n",
       "    </tr>\n",
       "  </tbody>\n",
       "</table>\n",
       "</div>"
      ],
      "text/plain": [
       "             Heart_Rate_Increased  No_Heart_Rate_Increased  Totals\n",
       "                                                                  \n",
       "Treated                      0.72                     0.28    0.48\n",
       "Not Treated                  0.55                     0.50    0.52\n",
       "Total                        0.63                     0.37  105.00"
      ]
     },
     "metadata": {},
     "output_type": "display_data"
    }
   ],
   "source": [
    "exp_1 = pd.DataFrame(columns = [\" \", \"Heart_Rate_Increased\", \"No_Heart_Rate_Increased\" ,\"Totals\"])\n",
    "exp_1[\" \"] = [\"Treated\",\"Not Treated\",\"Total\"]\n",
    "exp_1[\"Heart_Rate_Increased\"] = [36/50,30/55,66/105]\n",
    "exp_1[\"No_Heart_Rate_Increased\"] = [14/50,25/50,39/105]\n",
    "exp_1[\"Totals\"] = [50/105,55/105,105]\n",
    "exp_1 = exp_1.set_index(\" \")\n",
    "pd.options.display.float_format = '{:.2f}'.format\n",
    "display(exp_1)"
   ]
  },
  {
   "cell_type": "markdown",
   "metadata": {},
   "source": [
    "Örnek olarak: 0.72 oranı Tedavi görmüş bir hayvanın kalp hızının artma oranı  P(Treated, Hearth Rate Increased)<br>\n",
    "P(Treated) = 0.48"
   ]
  },
  {
   "cell_type": "markdown",
   "metadata": {},
   "source": [
    "$$ {P(X,Y) = P(X) + P(Y)}$$"
   ]
  },
  {
   "cell_type": "markdown",
   "metadata": {},
   "source": [
    "Eğer olayların birbirinden bağımsız olduğunu kabul edersek olayların çarpımı birlikte aynı anda olma olasılığı ile aynı olur."
   ]
  },
  {
   "cell_type": "code",
   "execution_count": 68,
   "metadata": {},
   "outputs": [
    {
     "data": {
      "text/html": [
       "<div>\n",
       "<style scoped>\n",
       "    .dataframe tbody tr th:only-of-type {\n",
       "        vertical-align: middle;\n",
       "    }\n",
       "\n",
       "    .dataframe tbody tr th {\n",
       "        vertical-align: top;\n",
       "    }\n",
       "\n",
       "    .dataframe thead th {\n",
       "        text-align: right;\n",
       "    }\n",
       "</style>\n",
       "<table border=\"1\" class=\"dataframe\">\n",
       "  <thead>\n",
       "    <tr style=\"text-align: right;\">\n",
       "      <th></th>\n",
       "      <th>Heart_Rate_Increased</th>\n",
       "      <th>No_Heart_Rate_Increased</th>\n",
       "      <th>Totals</th>\n",
       "    </tr>\n",
       "    <tr>\n",
       "      <th></th>\n",
       "      <th></th>\n",
       "      <th></th>\n",
       "      <th></th>\n",
       "    </tr>\n",
       "  </thead>\n",
       "  <tbody>\n",
       "    <tr>\n",
       "      <th>Treated</th>\n",
       "      <td>0.72 x 0.30</td>\n",
       "      <td>0.55 x 0.33</td>\n",
       "      <td>0.48</td>\n",
       "    </tr>\n",
       "    <tr>\n",
       "      <th>Not Treated</th>\n",
       "      <td>0.28 x 0.18</td>\n",
       "      <td>0.50 x 0.19</td>\n",
       "      <td>0.52</td>\n",
       "    </tr>\n",
       "    <tr>\n",
       "      <th>Total</th>\n",
       "      <td>0.63</td>\n",
       "      <td>0.37</td>\n",
       "      <td>105.00</td>\n",
       "    </tr>\n",
       "  </tbody>\n",
       "</table>\n",
       "</div>"
      ],
      "text/plain": [
       "            Heart_Rate_Increased No_Heart_Rate_Increased  Totals\n",
       "                                                                \n",
       "Treated              0.72 x 0.30             0.55 x 0.33    0.48\n",
       "Not Treated          0.28 x 0.18             0.50 x 0.19    0.52\n",
       "Total                       0.63                    0.37  105.00"
      ]
     },
     "metadata": {},
     "output_type": "display_data"
    }
   ],
   "source": [
    "exp_1[\" \"] = [\"Treated\",\"Not Treated\",\"Total\"]\n",
    "exp_1[\"Heart_Rate_Increased\"] = [\"0.72 x 0.30\",\"0.28 x 0.18\", 66/105]\n",
    "exp_1[\"No_Heart_Rate_Increased\"] = [\"0.55 x 0.33\",\"0.50 x 0.19\",39/105]\n",
    "exp_1[\"Totals\"] = [50/105,55/105,105]\n",
    "exp_1 = exp_1.set_index(\" \")\n",
    "display(exp_1)"
   ]
  },
  {
   "cell_type": "markdown",
   "metadata": {},
   "source": [
    "$$x^2 = \\sum \\frac{(observed - expected)^2}{expected}$$"
   ]
  },
  {
   "cell_type": "code",
   "execution_count": 74,
   "metadata": {},
   "outputs": [
    {
     "name": "stdout",
     "output_type": "stream",
     "text": [
      "Result = 1.296\n"
     ]
    }
   ],
   "source": [
    "result = ((0.72-0.30)**2/0.30)+((0.55-0.33)**2/0.33)+((0.28-0.18)**2/0.18)+((0.50-0.19)**2/0.19)\n",
    "print(\"Result = {:.3f}\".format(result))"
   ]
  },
  {
   "cell_type": "markdown",
   "metadata": {},
   "source": [
    "**Dof Hesaplama**: Degree of freedom genel olarak değişkenlerin boyutları - 1 <br>\n",
    "Bizim örneğimizde:<br>\n",
    "(2-1)x(2-1) = 1 dof"
   ]
  },
  {
   "cell_type": "code",
   "execution_count": 5,
   "metadata": {},
   "outputs": [],
   "source": [
    "import pandas as pd\n",
    "import numpy as np"
   ]
  },
  {
   "cell_type": "code",
   "execution_count": 41,
   "metadata": {},
   "outputs": [
    {
     "data": {
      "text/html": [
       "<div>\n",
       "<style scoped>\n",
       "    .dataframe tbody tr th:only-of-type {\n",
       "        vertical-align: middle;\n",
       "    }\n",
       "\n",
       "    .dataframe tbody tr th {\n",
       "        vertical-align: top;\n",
       "    }\n",
       "\n",
       "    .dataframe thead th {\n",
       "        text-align: right;\n",
       "    }\n",
       "</style>\n",
       "<table border=\"1\" class=\"dataframe\">\n",
       "  <thead>\n",
       "    <tr style=\"text-align: right;\">\n",
       "      <th></th>\n",
       "      <th>0.5</th>\n",
       "      <th>0.1</th>\n",
       "      <th>0.05</th>\n",
       "      <th>0.02</th>\n",
       "      <th>0.01</th>\n",
       "      <th>0.001</th>\n",
       "    </tr>\n",
       "    <tr>\n",
       "      <th>Df</th>\n",
       "      <th></th>\n",
       "      <th></th>\n",
       "      <th></th>\n",
       "      <th></th>\n",
       "      <th></th>\n",
       "      <th></th>\n",
       "    </tr>\n",
       "  </thead>\n",
       "  <tbody>\n",
       "    <tr>\n",
       "      <th>1</th>\n",
       "      <td>0.455</td>\n",
       "      <td>2.706</td>\n",
       "      <td>3.841</td>\n",
       "      <td>5.412</td>\n",
       "      <td>6.635</td>\n",
       "      <td>10.827</td>\n",
       "    </tr>\n",
       "    <tr>\n",
       "      <th>2</th>\n",
       "      <td>1.386</td>\n",
       "      <td>4.605</td>\n",
       "      <td>5.991</td>\n",
       "      <td>7.824</td>\n",
       "      <td>9.210</td>\n",
       "      <td>13.815</td>\n",
       "    </tr>\n",
       "    <tr>\n",
       "      <th>3</th>\n",
       "      <td>2.366</td>\n",
       "      <td>6.251</td>\n",
       "      <td>7.815</td>\n",
       "      <td>9.837</td>\n",
       "      <td>11.345</td>\n",
       "      <td>16.268</td>\n",
       "    </tr>\n",
       "    <tr>\n",
       "      <th>4</th>\n",
       "      <td>3.357</td>\n",
       "      <td>7.779</td>\n",
       "      <td>9.488</td>\n",
       "      <td>11.668</td>\n",
       "      <td>13.277</td>\n",
       "      <td>18.465</td>\n",
       "    </tr>\n",
       "    <tr>\n",
       "      <th>5</th>\n",
       "      <td>4.351</td>\n",
       "      <td>9.236</td>\n",
       "      <td>11.070</td>\n",
       "      <td>13.388</td>\n",
       "      <td>15.086</td>\n",
       "      <td>20.517</td>\n",
       "    </tr>\n",
       "  </tbody>\n",
       "</table>\n",
       "</div>"
      ],
      "text/plain": [
       "      0.5    0.1    0.05    0.02    0.01   0.001\n",
       "Df                                              \n",
       "1   0.455  2.706   3.841   5.412   6.635  10.827\n",
       "2   1.386  4.605   5.991   7.824   9.210  13.815\n",
       "3   2.366  6.251   7.815   9.837  11.345  16.268\n",
       "4   3.357  7.779   9.488  11.668  13.277  18.465\n",
       "5   4.351  9.236  11.070  13.388  15.086  20.517"
      ]
     },
     "execution_count": 41,
     "metadata": {},
     "output_type": "execute_result"
    }
   ],
   "source": [
    "\n",
    "table = pd.DataFrame(columns = ['Df',\"0.5\",\"0.1\",\"0.05\",\"0.02\",\"0.01\",\"0.001\"])\n",
    "\n",
    "table[\"Df\"] = [1,2,3,4,5]\n",
    "table[\"0.5\"] = [0.455,1.386,2.366,3.357,4.351]\n",
    "table[\"0.1\"] = [2.706,4.605,6.251,7.779,9.236]\n",
    "table[\"0.05\"] = [3.841,5.991,7.815,9.488,11.07]\n",
    "table[\"0.02\"] = [5.412,7.824,9.837,11.668,13.388]\n",
    "table[\"0.01\"] = [6.635,9.21,11.345,13.277,15.086]\n",
    "table[\"0.001\"] = [10.827,13.815,16.268,18.465,20.517]\n",
    "table.set_index(\"Df\")"
   ]
  },
  {
   "cell_type": "markdown",
   "metadata": {},
   "source": [
    "**x² > table value = accept = dependent(H1)** <br>"
   ]
  },
  {
   "cell_type": "markdown",
   "metadata": {},
   "source": [
    "**x² ≤ table value = reject = independent(H0)**"
   ]
  },
  {
   "cell_type": "markdown",
   "metadata": {},
   "source": [
    "**0.05 için 3.841 değerinden sonucumuz(1.296) küçük olduğu için H0 yani iki değer birbirinden bağımsız.**"
   ]
  },
  {
   "cell_type": "code",
   "execution_count": 91,
   "metadata": {},
   "outputs": [
    {
     "name": "stdout",
     "output_type": "stream",
     "text": [
      "===Chi2 Stat===\n",
      "2.710942466624286\n",
      "\n",
      "\n",
      "===Degrees of Freedom===\n",
      "1\n",
      "\n",
      "\n",
      "===P-Value===\n",
      "0.09966209595851808\n",
      "\n",
      "\n",
      "===Contingency Table===\n",
      "[[31.42857143 18.57142857]\n",
      " [34.57142857 20.42857143]]\n"
     ]
    }
   ],
   "source": [
    "from scipy import stats\n",
    "\n",
    "\n",
    "a1 = [36,14]\n",
    "a2 = [30,25]\n",
    "\n",
    "chi2_stat, p_val, dof, ex = stats.chi2_contingency([a1,a2])\n",
    "print(\"===Chi2 Stat===\")\n",
    "print(chi2_stat)\n",
    "print(\"\\n\")\n",
    "print(\"===Degrees of Freedom===\")\n",
    "print(dof)\n",
    "print(\"\\n\")\n",
    "print(\"===P-Value===\")\n",
    "print(p_val)\n",
    "print(\"\\n\")\n",
    "print(\"===Contingency Table===\")\n",
    "print(ex)"
   ]
  },
  {
   "cell_type": "markdown",
   "metadata": {},
   "source": [
    "**p-value değerimiz = 0.099 > 0.05 H0 kabul ediyoruz ve Independent.**"
   ]
  },
  {
   "cell_type": "code",
   "execution_count": null,
   "metadata": {},
   "outputs": [],
   "source": []
  }
 ],
 "metadata": {
  "kernelspec": {
   "display_name": "Python 3",
   "language": "python",
   "name": "python3"
  },
  "language_info": {
   "codemirror_mode": {
    "name": "ipython",
    "version": 3
   },
   "file_extension": ".py",
   "mimetype": "text/x-python",
   "name": "python",
   "nbconvert_exporter": "python",
   "pygments_lexer": "ipython3",
   "version": "3.8.3"
  }
 },
 "nbformat": 4,
 "nbformat_minor": 4
}
