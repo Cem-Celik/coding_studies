{
 "cells": [
  {
   "cell_type": "code",
   "execution_count": 27,
   "metadata": {},
   "outputs": [
    {
     "name": "stdout",
     "output_type": "stream",
     "text": [
      "1 --------> 2\n",
      "2 --------> 3\n",
      "3 --------> 2\n",
      "4 --------> 1\n",
      "7 --------> 1\n"
     ]
    }
   ],
   "source": [
    "import numpy as np\n",
    "def find_values(lst):\n",
    "    lst_set = []\n",
    "    \n",
    "    for i in range(len(lst)):\n",
    "        if lst[i] not in lst_set:\n",
    "            lst_set.append(lst[i])\n",
    "    \n",
    "    lst_numbers = np.full(len(lst_set),0)\n",
    "    \n",
    "    for i in range(len(lst_set)):\n",
    "        for j in range(len(lst)):\n",
    "            if lst_set[i] == lst[j]:\n",
    "                lst_numbers[i] = lst_numbers[i] + 1\n",
    "                                \n",
    "    for x in range(len(lst_set)):\n",
    "        print(\"{} --------> {}\".format(lst_set[x],lst_numbers[x]))\n",
    "                \n",
    "\n",
    "lst = [1,2,3,4,2,1,7,2,3]\n",
    "find_values(lst)"
   ]
  },
  {
   "cell_type": "code",
   "execution_count": 29,
   "metadata": {},
   "outputs": [
    {
     "name": "stdout",
     "output_type": "stream",
     "text": [
      "1 --------> 2\n",
      "2 --------> 3\n",
      "3 --------> 2\n",
      "4 --------> 1\n",
      "7 --------> 1\n"
     ]
    }
   ],
   "source": [
    "lst = [1,2,3,4,2,1,7,2,3]\n",
    "(value,counts)=np.unique(lst,return_counts=True)\n",
    "\n",
    "for x in range(len(value)):\n",
    "    print(\"{} --------> {}\".format(value[x],counts[x]))"
   ]
  },
  {
   "cell_type": "code",
   "execution_count": null,
   "metadata": {},
   "outputs": [],
   "source": []
  }
 ],
 "metadata": {
  "kernelspec": {
   "display_name": "Python 3",
   "language": "python",
   "name": "python3"
  },
  "language_info": {
   "codemirror_mode": {
    "name": "ipython",
    "version": 3
   },
   "file_extension": ".py",
   "mimetype": "text/x-python",
   "name": "python",
   "nbconvert_exporter": "python",
   "pygments_lexer": "ipython3",
   "version": "3.8.3"
  }
 },
 "nbformat": 4,
 "nbformat_minor": 4
}
