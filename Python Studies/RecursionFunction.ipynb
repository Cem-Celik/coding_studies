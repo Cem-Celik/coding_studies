{
 "cells": [
  {
   "cell_type": "code",
   "execution_count": 13,
   "metadata": {},
   "outputs": [
    {
     "name": "stdin",
     "output_type": "stream",
     "text": [
      "Lütfen bir sayı giriniz faktöriyel için 3\n"
     ]
    },
    {
     "name": "stdout",
     "output_type": "stream",
     "text": [
      "3! = 6\n"
     ]
    },
    {
     "name": "stdin",
     "output_type": "stream",
     "text": [
      "Lütfen bir sayı giriniz fibonacci için 9\n"
     ]
    },
    {
     "name": "stdout",
     "output_type": "stream",
     "text": [
      "9. fibonacci sayısı = 21\n"
     ]
    }
   ],
   "source": [
    "def faktoriyel(number):\n",
    "    if number==1:\n",
    "        return number\n",
    "    else:\n",
    "        return (number * faktoriyel(number - 1))\n",
    "\n",
    "    \n",
    "\n",
    "def fibonacci(n): \n",
    "    if n==1:\n",
    "        return 0\n",
    "    elif n==2:\n",
    "        return 1\n",
    "    else:\n",
    "        return (fibonacci(n-1)+fibonacci(n-2))\n",
    "    \n",
    "number = int(input(\"Lütfen bir sayı giriniz faktöriyel için\"))\n",
    "print(\"{}! = {}\".format(number,faktoriyel(number)))\n",
    "\n",
    "number = int(input(\"Lütfen bir sayı giriniz fibonacci için\"))\n",
    "print(\"{}. fibonacci sayısı = {}\".format(number,fibonacci(number)))"
   ]
  },
  {
   "cell_type": "code",
   "execution_count": 17,
   "metadata": {},
   "outputs": [
    {
     "name": "stdout",
     "output_type": "stream",
     "text": [
      "160\n"
     ]
    }
   ],
   "source": [
    "lst = [5,78,8,9,12,160,8,17,36]\n",
    "\n",
    "def maxNum(lst):\n",
    "    \n",
    "    if len(lst)==1:\n",
    "        return lst[0]\n",
    "    else:\n",
    "        if lst[0]<lst[1]:\n",
    "            lst.pop(0)\n",
    "            return maxNum(lst)\n",
    "        else:\n",
    "            lst.pop(1)\n",
    "            return maxNum(lst)\n",
    "\n",
    "print(maxNum(lst))"
   ]
  },
  {
   "cell_type": "code",
   "execution_count": null,
   "metadata": {},
   "outputs": [],
   "source": []
  }
 ],
 "metadata": {
  "kernelspec": {
   "display_name": "Python 3",
   "language": "python",
   "name": "python3"
  },
  "language_info": {
   "codemirror_mode": {
    "name": "ipython",
    "version": 3
   },
   "file_extension": ".py",
   "mimetype": "text/x-python",
   "name": "python",
   "nbconvert_exporter": "python",
   "pygments_lexer": "ipython3",
   "version": "3.8.3"
  }
 },
 "nbformat": 4,
 "nbformat_minor": 4
}
